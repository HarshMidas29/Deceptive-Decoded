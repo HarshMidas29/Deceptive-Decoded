{
 "cells": [
  {
   "cell_type": "code",
   "execution_count": 2,
   "metadata": {},
   "outputs": [],
   "source": [
    "import pandas as pd\n",
    "from sklearn.feature_extraction.text import TfidfVectorizer\n",
    "from sklearn.model_selection import train_test_split\n",
    "from sklearn.svm import SVC \n",
    "from sklearn.metrics import accuracy_score, classification_report\n",
    "import lime.lime_text\n",
    "import re\n",
    "import tkinter as tk\n",
    "from tkinter import scrolledtext, messagebox, Label\n",
    "from matplotlib.backends.backend_tkagg import FigureCanvasTkAgg\n",
    "import matplotlib.pyplot as plt\n",
    "import numpy as np"
   ]
  },
  {
   "cell_type": "code",
   "execution_count": 4,
   "metadata": {},
   "outputs": [],
   "source": [
    "# Load and inspect the dataset\n",
    "file_path = 'Phishing_Email.csv'\n",
    "data = pd.read_csv(file_path)\n",
    "data.rename(columns={'Email Text': 'text', 'Email Type': 'label'}, inplace=True)\n",
    "\n",
    "# Preprocess the data\n",
    "data['text'] = data['text'].str.lower().str.replace(r'<[^<>]*>', '', regex=True).str.replace(r'[^a-z\\s]', '', regex=True)\n",
    "data['text'] = data['text'].fillna('')\n",
    "\n",
    "# Feature Engineering\n",
    "vectorizer = TfidfVectorizer(stop_words='english', max_features=1000)\n",
    "X = vectorizer.fit_transform(data['text'])\n",
    "y = data['label'].apply(lambda x: 1 if x == 'Phishing Email' else 0)\n",
    "\n",
    "# Split the data\n",
    "X_train, X_test, y_train, y_test = train_test_split(X, y, test_size=0.2, random_state=42)"
   ]
  },
  {
   "cell_type": "code",
   "execution_count": 5,
   "metadata": {},
   "outputs": [],
   "source": [
    "# Initialize and train the SVM model with updated hyperparameters\n",
    "svm_model = SVC(probability=True, C=10, kernel='rbf')\n",
    "svm_model.fit(X_train, y_train)\n",
    "\n",
    "# Initialize LIME\n",
    "explainer = lime.lime_text.LimeTextExplainer(class_names=['Safe Email', 'Phishing Email'])"
   ]
  },
  {
   "cell_type": "code",
   "execution_count": 6,
   "metadata": {},
   "outputs": [],
   "source": [
    "# Function to check for phishing using the SVM model and LIME explanation\n",
    "def check_email_for_phishing(email_body, result_label, lime_canvas, warning_label, probability_canvas):\n",
    "    if not email_body:\n",
    "        result_label.config(text=\"No email content provided.\")\n",
    "        warning_label.config(text=\"\")\n",
    "        return\n",
    "\n",
    "    # Preprocess the email text\n",
    "    email_body = re.sub(r'<[^<>]*>', '', email_body.lower())\n",
    "    email_body = re.sub(r'[^a-z\\s]', '', email_body)\n",
    "\n",
    "    # Transform the text and predict\n",
    "    transformed_text = vectorizer.transform([email_body])\n",
    "    svm_prediction = svm_model.predict(transformed_text)[0]\n",
    "    probabilities = svm_model.predict_proba(transformed_text)[0]\n",
    "\n",
    "    # Display the prediction\n",
    "    result_text = f\"SVM Prediction: {'Phishing Email' if svm_prediction == 1 else 'Safe Email'}\"\n",
    "    result_label.config(text=result_text)\n",
    "\n",
    "    # Clear previous canvas content for the LIME explanation and probability bar if any\n",
    "    for widget in lime_canvas.winfo_children():\n",
    "        widget.destroy()\n",
    "    for widget in probability_canvas.winfo_children():\n",
    "        widget.destroy()\n",
    "\n",
    "    # Plot probability bar graph\n",
    "    fig, ax = plt.subplots(figsize=(10, 2.5))  # Increase height for better spacing\n",
    "    ax.barh(['Safe Email', 'Phishing Email'], probabilities, color=['green', 'red'])\n",
    "    ax.set_xlim(0, 1)\n",
    "    ax.set_xlabel('Probability')\n",
    "\n",
    "    # Display probability values next to each bar\n",
    "    for i, v in enumerate(probabilities):\n",
    "        ax.text(v - 0.05 if v > 0.1 else v + 0.02, i, f\"{v:.2f}\", color='white' if v > 0.1 else 'black', va='center')\n",
    "\n",
    "    # Display probability bar graph in the GUI\n",
    "    prob_bar = FigureCanvasTkAgg(fig, master=probability_canvas)\n",
    "    prob_bar.draw()\n",
    "    prob_bar.get_tk_widget().pack()\n",
    "\n",
    "    # Plot and display LIME explanation in lime_canvas\n",
    "    exp = explainer.explain_instance(email_body, predict_proba_wrapper, num_features=10)\n",
    "    fig_lime = exp.as_pyplot_figure()\n",
    "    canvas = FigureCanvasTkAgg(fig_lime, master=lime_canvas)\n",
    "    canvas.draw()\n",
    "    canvas.get_tk_widget().pack()\n",
    "\n",
    "    # Display a prominent warning message if predicted as phishing\n",
    "    if svm_prediction == 1:\n",
    "        warning_label.config(\n",
    "            text=\"⚠️ Warning: This email is predicted as a phishing email. Please verify the sender before taking any action.\",\n",
    "            fg=\"red\",\n",
    "            font=(\"Arial\", 14, \"bold\")\n",
    "        )\n",
    "    else:\n",
    "        warning_label.config(\n",
    "            text=\"The email is predicted as safe. Always verify the sender's authenticity.\",\n",
    "            fg=\"green\",\n",
    "            font=(\"Arial\", 12)\n",
    "        )"
   ]
  },
  {
   "cell_type": "code",
   "execution_count": 7,
   "metadata": {},
   "outputs": [],
   "source": [
    "# Wrapper function for LIME\n",
    "def predict_proba_wrapper(texts):\n",
    "    transformed_texts = vectorizer.transform(texts)\n",
    "    return svm_model.predict_proba(transformed_texts)"
   ]
  },
  {
   "cell_type": "code",
   "execution_count": 8,
   "metadata": {},
   "outputs": [
    {
     "data": {
      "image/png": "[encoded data removed]",
      "text/plain": [
       "<Figure size 1000x250 with 1 Axes>"
      ]
     },
     "metadata": {},
     "output_type": "display_data"
    },
    {
     "data": {
      "image/png": "[encoded data removed]",
      "text/plain": [
       "<Figure size 640x226 with 1 Axes>"
      ]
     },
     "metadata": {},
     "output_type": "display_data"
    }
   ],
   "source": [
    "# Function to display the GUI\n",
    "def get_user_input():\n",
    "    # Initialize Tkinter window\n",
    "    root = tk.Tk()\n",
    "    root.title(\"Phishing Email Detection\")\n",
    "    root.geometry(\"1080x900\")\n",
    "\n",
    "    # UI Elements\n",
    "    tk.Label(root, text=\"Please enter the email body:\", font=(\"Arial\", 14)).pack(pady=10)\n",
    "    text_area = scrolledtext.ScrolledText(root, wrap=tk.WORD, font=(\"Arial\", 12), height=10, width=80)\n",
    "    text_area.pack(padx=10, pady=10)\n",
    "\n",
    "    # Result label\n",
    "    result_label = tk.Label(root, text=\"\", font=(\"Arial\", 14), fg=\"blue\")\n",
    "    result_label.pack(pady=10)\n",
    "\n",
    "    # Warning message label\n",
    "    warning_label = tk.Label(root, text=\"\", font=(\"Arial\", 14))\n",
    "    warning_label.pack(pady=10)\n",
    "\n",
    "    # Probability bar graph area\n",
    "    tk.Label(root, text=\"Prediction Probabilities:\", font=(\"Arial\", 14)).pack(pady=5)\n",
    "    probability_canvas = tk.Frame(root)\n",
    "    probability_canvas.pack()\n",
    "\n",
    "    # LIME explanation plot area\n",
    "    tk.Label(root, text=\"LIME Explanation:\", font=(\"Arial\", 14)).pack(pady=5)\n",
    "    lime_canvas = tk.Frame(root)\n",
    "    lime_canvas.pack()\n",
    "\n",
    "    # Function to process input\n",
    "    def process_input():\n",
    "        email_body = text_area.get(\"1.0\", tk.END).strip()\n",
    "        check_email_for_phishing(email_body, result_label, lime_canvas, warning_label, probability_canvas)\n",
    "\n",
    "    tk.Button(root, text=\"Check for Phishing\", font=(\"Arial\", 12), command=process_input).pack(pady=20)\n",
    "\n",
    "    # Start Tkinter main loop\n",
    "    root.mainloop()\n",
    "\n",
    "# Run the GUI application\n",
    "get_user_input()"
   ]
  },
  {
   "cell_type": "code",
   "execution_count": 9,
   "metadata": {},
   "outputs": [
    {
     "ename": "AttributeError",
     "evalue": "'Series' object has no attribute 'nonzero'",
     "output_type": "error",
     "traceback": [
      "\u001b[31m---------------------------------------------------------------------------\u001b[39m",
      "\u001b[31mAttributeError\u001b[39m                            Traceback (most recent call last)",
      "\u001b[32m~\\AppData\\Local\\Temp\\ipykernel_14256\\3928290722.py\u001b[39m in \u001b[36m?\u001b[39m\u001b[34m()\u001b[39m\n\u001b[32m      1\u001b[39m y_pred = svm_model.predict(X_test)\n\u001b[32m----> \u001b[39m\u001b[32m2\u001b[39m errors = X_test[(y_pred != y_test)]\n\u001b[32m      3\u001b[39m print(errors)\n",
      "\u001b[32md:\\GitHub\\Deceptive-Decoded\\.venv\\Lib\\site-packages\\scipy\\sparse\\_index.py\u001b[39m in \u001b[36m?\u001b[39m\u001b[34m(self, key)\u001b[39m\n\u001b[32m     29\u001b[39m     \u001b[38;5;28;01mdef\u001b[39;00m __getitem__(self, key):\n\u001b[32m---> \u001b[39m\u001b[32m30\u001b[39m         index, new_shape = self._validate_indices(key)\n\u001b[32m     31\u001b[39m \n\u001b[32m     32\u001b[39m         \u001b[38;5;66;03m# 1D array\u001b[39;00m\n\u001b[32m     33\u001b[39m         \u001b[38;5;28;01mif\u001b[39;00m len(index) == \u001b[32m1\u001b[39m:\n",
      "\u001b[32md:\\GitHub\\Deceptive-Decoded\\.venv\\Lib\\site-packages\\scipy\\sparse\\_index.py\u001b[39m in \u001b[36m?\u001b[39m\u001b[34m(self, key)\u001b[39m\n\u001b[32m    279\u001b[39m                 \u001b[38;5;28;01mif\u001b[39;00m ix.shape != mid_shape:\n\u001b[32m    280\u001b[39m                     raise IndexError(\n\u001b[32m    281\u001b[39m                         f\"bool index {i} has shape {mid_shape} instead of {ix.shape}\"\n\u001b[32m    282\u001b[39m                     )\n\u001b[32m--> \u001b[39m\u001b[32m283\u001b[39m                 index.extend(ix.nonzero())\n\u001b[32m    284\u001b[39m                 array_indices.extend(range(index_ndim, tmp_ndim))\n\u001b[32m    285\u001b[39m                 index_ndim = tmp_ndim\n\u001b[32m    286\u001b[39m             \u001b[38;5;28;01melse\u001b[39;00m:  \u001b[38;5;66;03m# dense array\u001b[39;00m\n",
      "\u001b[32md:\\GitHub\\Deceptive-Decoded\\.venv\\Lib\\site-packages\\pandas\\core\\generic.py\u001b[39m in \u001b[36m?\u001b[39m\u001b[34m(self, name)\u001b[39m\n\u001b[32m   6295\u001b[39m             \u001b[38;5;28;01mand\u001b[39;00m name \u001b[38;5;28;01mnot\u001b[39;00m \u001b[38;5;28;01min\u001b[39;00m self._accessors\n\u001b[32m   6296\u001b[39m             \u001b[38;5;28;01mand\u001b[39;00m self._info_axis._can_hold_identifiers_and_holds_name(name)\n\u001b[32m   6297\u001b[39m         ):\n\u001b[32m   6298\u001b[39m             \u001b[38;5;28;01mreturn\u001b[39;00m self[name]\n\u001b[32m-> \u001b[39m\u001b[32m6299\u001b[39m         \u001b[38;5;28;01mreturn\u001b[39;00m object.__getattribute__(self, name)\n",
      "\u001b[31mAttributeError\u001b[39m: 'Series' object has no attribute 'nonzero'"
     ]
    }
   ],
   "source": [
    "y_pred = svm_model.predict(X_test)\n",
    "errors = X_test[(y_pred != y_test)]\n",
    "print(errors)\n"
   ]
  }
 ],
 "metadata": {
  "kernelspec": {
   "display_name": ".venv",
   "language": "python",
   "name": "python3"
  },
  "language_info": {
   "codemirror_mode": {
    "name": "ipython",
    "version": 3
   },
   "file_extension": ".py",
   "mimetype": "text/x-python",
   "name": "python",
   "nbconvert_exporter": "python",
   "pygments_lexer": "ipython3",
   "version": "3.12.1"
  }
 },
 "nbformat": 4,
 "nbformat_minor": 2
}
